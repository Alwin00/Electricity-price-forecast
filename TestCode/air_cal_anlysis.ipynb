{
 "cells": [
  {
   "cell_type": "code",
   "execution_count": 22,
   "metadata": {},
   "outputs": [],
   "source": [
    "import pandas as pd\n",
    "import numpy as np\n",
    "from sklearn.ensemble import RandomForestClassifier\n",
    "from sklearn.ensemble import RandomForestRegressor\n",
    "from sklearn.preprocessing import LabelEncoder\n",
    "from sklearn.metrics import confusion_matrix\n",
    "from sklearn.metrics import classification_report\n",
    "import matplotlib.pyplot as plt\n",
    "import matplotlib\n",
    "from sklearn.model_selection import train_test_split\n",
    "import itertools"
   ]
  },
  {
   "cell_type": "code",
   "execution_count": 23,
   "metadata": {},
   "outputs": [
    {
     "name": "stdout",
     "output_type": "stream",
     "text": [
      "           PM2.5  PM10  SO2   CO  NO2  O3_8h  AQI 质量等级\n",
      "日期                                                    \n",
      "2013/12/2    109   138   61  2.6   88     11  142   轻度\n",
      "2013/12/3     64    86   38  1.6   54     45   86    良\n",
      "2013/12/4     82   101   42  2.0   62     23  109   轻度\n",
      "2013/12/5     39    56   30  1.2   38     52   56    良\n",
      "2013/12/6    128   162   48  2.5   78     15  169   中度\n",
      "(1787, 8)\n",
      "<class 'pandas.core.frame.DataFrame'>\n",
      "空气质量等级类别: ['严重' '中度' '优' '良' '轻度' '重度']\n"
     ]
    }
   ],
   "source": [
    "data=pd.read_csv('air_train&test.csv',index_col=0,encoding='gb2312')\n",
    "print (data.head())\n",
    "print (data.shape)\n",
    "index=data.index\n",
    "col=data.columns\n",
    "class_names=np.unique(data.iloc[:,-1])\n",
    "print (type(data))\n",
    "print (\"空气质量等级类别:\",class_names)"
   ]
  },
  {
   "cell_type": "code",
   "execution_count": 25,
   "metadata": {},
   "outputs": [
    {
     "name": "stdout",
     "output_type": "stream",
     "text": [
      "['严重' '中度' '优' '良' '轻度' '重度']\n"
     ]
    }
   ],
   "source": [
    "enc = LabelEncoder()\n",
    "enc.fit(data.iloc[:,-1])\n",
    "print(enc.classes_)"
   ]
  },
  {
   "cell_type": "code",
   "execution_count": 27,
   "metadata": {
    "collapsed": true
   },
   "outputs": [
    {
     "name": "stdout",
     "output_type": "stream",
     "text": [
      "             PM2.5         PM10          SO2           CO          NO2  \\\n",
      "count  1787.000000  1787.000000  1787.000000  1787.000000  1787.000000   \n",
      "mean     69.621153    95.296586    11.994404     1.126021    47.814773   \n",
      "std      62.851629    70.622543    15.256668     0.907046    23.160085   \n",
      "min       4.000000     0.000000     2.000000     0.200000     7.000000   \n",
      "25%      26.000000    45.000000     3.000000     0.600000    32.000000   \n",
      "50%      52.000000    80.000000     6.000000     0.900000    42.000000   \n",
      "75%      90.000000   124.000000    14.000000     1.300000    59.000000   \n",
      "max     477.000000   550.000000   133.000000     8.000000   155.000000   \n",
      "\n",
      "             O3_8h          AQI  \n",
      "count  1787.000000  1787.000000  \n",
      "mean    100.001679   111.306659  \n",
      "std      63.817485    69.597386  \n",
      "min       2.000000    21.000000  \n",
      "25%      52.500000    60.000000  \n",
      "50%      85.000000    93.000000  \n",
      "75%     143.000000   145.000000  \n",
      "max     308.000000   485.000000  \n"
     ]
    }
   ],
   "source": [
    "print (data.describe())"
   ]
  },
  {
   "cell_type": "code",
   "execution_count": 28,
   "metadata": {
    "collapsed": true
   },
   "outputs": [
    {
     "name": "stdout",
     "output_type": "stream",
     "text": [
      "训练集统计描述：\n",
      "         PM2.5     PM10      SO2       CO      NO2    O3_8h      AQI\n",
      "count  1608.0  1608.00  1608.00  1608.00  1608.00  1608.00  1608.00\n",
      "mean     69.1    95.26    11.90     1.12    47.74    99.90   110.62\n",
      "std      63.2    71.28    15.21     0.91    23.32    63.51    69.94\n",
      "min       4.0     0.00     2.00     0.20     7.00     2.00    21.00\n",
      "25%      26.0    45.00     3.00     0.60    32.00    53.00    60.00\n",
      "50%      51.0    79.00     6.00     0.90    42.00    86.00    92.00\n",
      "75%      89.0   124.00    14.00     1.30    58.00   142.00   145.00\n",
      "max     477.0   550.00   133.00     8.00   155.00   308.00   485.00\n",
      "验证集统计描述：\n",
      "         PM2.5    PM10     SO2      CO     NO2   O3_8h     AQI\n",
      "count  179.00  179.00  179.00  179.00  179.00  179.00  179.00\n",
      "mean    74.32   95.58   12.84    1.17   48.47  100.88  117.44\n",
      "std     59.61   64.65   15.65    0.85   21.71   66.69   66.33\n",
      "min      5.00    0.00    2.00    0.30   12.00    5.00   29.00\n",
      "25%     31.00   46.50    3.00    0.60   32.00   47.00   63.50\n",
      "50%     60.00   85.00    6.00    0.90   43.00   83.00  107.00\n",
      "75%    100.50  128.00   16.50    1.40   61.00  151.00  156.00\n",
      "max    296.00  360.00   79.00    5.80  136.00  276.00  346.00\n",
      "训练集信息：\n",
      " 良     612\n",
      "轻度    350\n",
      "优     278\n",
      "中度    216\n",
      "重度    112\n",
      "严重     40\n",
      "Name: 质量等级, dtype: int64\n",
      "验证集信息：\n",
      " 良     61\n",
      "轻度    46\n",
      "中度    29\n",
      "优     24\n",
      "重度    16\n",
      "严重     3\n",
      "Name: 质量等级, dtype: int64\n"
     ]
    }
   ],
   "source": [
    "#划分训练集和验证集\n",
    "data_train, data_test= train_test_split(data,test_size=0.1, random_state=0)\n",
    "print (\"训练集统计描述：\\n\",data_train.describe().round(2))\n",
    "print (\"验证集统计描述：\\n\",data_test.describe().round(2))\n",
    "print (\"训练集信息：\\n\",data_train.iloc[:,-1].value_counts())\n",
    "print (\"验证集信息：\\n\",data_test.iloc[:,-1].value_counts())\n"
   ]
  },
  {
   "cell_type": "code",
   "execution_count": 29,
   "metadata": {},
   "outputs": [
    {
     "name": "stdout",
     "output_type": "stream",
     "text": [
      "Index(['PM2.5', 'PM10', 'SO2', 'CO', 'NO2', 'O3_8h'], dtype='object')\n"
     ]
    }
   ],
   "source": [
    "X_train=data_train.iloc[:,0:-2]\n",
    "X_test=data_test.iloc[:,0:-2]\n",
    "feature=data_train.iloc[:,0:-2].columns\n",
    "print (feature)\n",
    "#分类的训练和验证标签变量数据\"质量等级”\n",
    "y_train=data_train.iloc[:,-1]\n",
    "y_test=data_test.iloc[:,-1]\n",
    "#print (X_test)\n",
    "#print (y_test)\n",
    "#print(enc.transform(y_test))"
   ]
  },
  {
   "cell_type": "code",
   "execution_count": 30,
   "metadata": {},
   "outputs": [
    {
     "data": {
      "text/html": [
       "<div>\n",
       "<style scoped>\n",
       "    .dataframe tbody tr th:only-of-type {\n",
       "        vertical-align: middle;\n",
       "    }\n",
       "\n",
       "    .dataframe tbody tr th {\n",
       "        vertical-align: top;\n",
       "    }\n",
       "\n",
       "    .dataframe thead th {\n",
       "        text-align: right;\n",
       "    }\n",
       "</style>\n",
       "<table border=\"1\" class=\"dataframe\">\n",
       "  <thead>\n",
       "    <tr style=\"text-align: right;\">\n",
       "      <th></th>\n",
       "      <th>PM2.5</th>\n",
       "      <th>PM10</th>\n",
       "      <th>SO2</th>\n",
       "      <th>CO</th>\n",
       "      <th>NO2</th>\n",
       "      <th>O3_8h</th>\n",
       "      <th>AQI</th>\n",
       "    </tr>\n",
       "  </thead>\n",
       "  <tbody>\n",
       "    <tr>\n",
       "      <th>PM2.5</th>\n",
       "      <td>1.000000</td>\n",
       "      <td>0.853334</td>\n",
       "      <td>0.538169</td>\n",
       "      <td>0.841337</td>\n",
       "      <td>0.787447</td>\n",
       "      <td>-0.111656</td>\n",
       "      <td>0.940226</td>\n",
       "    </tr>\n",
       "    <tr>\n",
       "      <th>PM10</th>\n",
       "      <td>0.853334</td>\n",
       "      <td>1.000000</td>\n",
       "      <td>0.526669</td>\n",
       "      <td>0.717788</td>\n",
       "      <td>0.745122</td>\n",
       "      <td>-0.052869</td>\n",
       "      <td>0.848696</td>\n",
       "    </tr>\n",
       "    <tr>\n",
       "      <th>SO2</th>\n",
       "      <td>0.538169</td>\n",
       "      <td>0.526669</td>\n",
       "      <td>1.000000</td>\n",
       "      <td>0.622728</td>\n",
       "      <td>0.621791</td>\n",
       "      <td>-0.327056</td>\n",
       "      <td>0.474458</td>\n",
       "    </tr>\n",
       "    <tr>\n",
       "      <th>CO</th>\n",
       "      <td>0.841337</td>\n",
       "      <td>0.717788</td>\n",
       "      <td>0.622728</td>\n",
       "      <td>1.000000</td>\n",
       "      <td>0.807794</td>\n",
       "      <td>-0.337648</td>\n",
       "      <td>0.763714</td>\n",
       "    </tr>\n",
       "    <tr>\n",
       "      <th>NO2</th>\n",
       "      <td>0.787447</td>\n",
       "      <td>0.745122</td>\n",
       "      <td>0.621791</td>\n",
       "      <td>0.807794</td>\n",
       "      <td>1.000000</td>\n",
       "      <td>-0.357932</td>\n",
       "      <td>0.713377</td>\n",
       "    </tr>\n",
       "    <tr>\n",
       "      <th>O3_8h</th>\n",
       "      <td>-0.111656</td>\n",
       "      <td>-0.052869</td>\n",
       "      <td>-0.327056</td>\n",
       "      <td>-0.337648</td>\n",
       "      <td>-0.357932</td>\n",
       "      <td>1.000000</td>\n",
       "      <td>0.124166</td>\n",
       "    </tr>\n",
       "    <tr>\n",
       "      <th>AQI</th>\n",
       "      <td>0.940226</td>\n",
       "      <td>0.848696</td>\n",
       "      <td>0.474458</td>\n",
       "      <td>0.763714</td>\n",
       "      <td>0.713377</td>\n",
       "      <td>0.124166</td>\n",
       "      <td>1.000000</td>\n",
       "    </tr>\n",
       "  </tbody>\n",
       "</table>\n",
       "</div>"
      ],
      "text/plain": [
       "          PM2.5      PM10       SO2        CO       NO2     O3_8h       AQI\n",
       "PM2.5  1.000000  0.853334  0.538169  0.841337  0.787447 -0.111656  0.940226\n",
       "PM10   0.853334  1.000000  0.526669  0.717788  0.745122 -0.052869  0.848696\n",
       "SO2    0.538169  0.526669  1.000000  0.622728  0.621791 -0.327056  0.474458\n",
       "CO     0.841337  0.717788  0.622728  1.000000  0.807794 -0.337648  0.763714\n",
       "NO2    0.787447  0.745122  0.621791  0.807794  1.000000 -0.357932  0.713377\n",
       "O3_8h -0.111656 -0.052869 -0.327056 -0.337648 -0.357932  1.000000  0.124166\n",
       "AQI    0.940226  0.848696  0.474458  0.763714  0.713377  0.124166  1.000000"
      ]
     },
     "execution_count": 30,
     "metadata": {},
     "output_type": "execute_result"
    }
   ],
   "source": [
    "data.drop([u'质量等级'],axis = 1).corr()"
   ]
  },
  {
   "cell_type": "code",
   "execution_count": 31,
   "metadata": {},
   "outputs": [],
   "source": [
    "'''分类参数选择'''\n",
    "from sklearn.model_selection import RandomizedSearchCV\n",
    "criterion=['gini','entropy']\n",
    "n_estimators = [int(x) for x in np.linspace(start = 200, stop = 2000, num = 10)]\n",
    "max_features = ['auto', 'sqrt']\n",
    "max_depth = [int(x) for x in np.linspace(10, 100, num = 10)]\n",
    "max_depth.append(None)\n",
    "min_samples_split = [2, 5, 10]\n",
    "min_samples_leaf = [1, 2, 4]\n",
    "bootstrap = [True, False]"
   ]
  },
  {
   "cell_type": "code",
   "execution_count": 32,
   "metadata": {},
   "outputs": [],
   "source": [
    "# Create the random grid\n",
    "random_grid = {'criterion':criterion,\n",
    "                'n_estimators': n_estimators,\n",
    "               'max_features': max_features,\n",
    "               'max_depth': max_depth,\n",
    "               'min_samples_split': min_samples_split,\n",
    "               'min_samples_leaf': min_samples_leaf,\n",
    "               'bootstrap': bootstrap}\n"
   ]
  },
  {
   "cell_type": "code",
   "execution_count": 33,
   "metadata": {},
   "outputs": [],
   "source": [
    "#构建模型\n",
    "clf = RandomForestClassifier()\n",
    "clf_random = RandomizedSearchCV(estimator=clf, param_distributions=random_grid,n_iter = 10, cv = 3, verbose=2, random_state=42, n_jobs=1)\n"
   ]
  },
  {
   "cell_type": "code",
   "execution_count": 34,
   "metadata": {},
   "outputs": [
    {
     "name": "stdout",
     "output_type": "stream",
     "text": [
      "Fitting 3 folds for each of 10 candidates, totalling 30 fits\n",
      "[CV] n_estimators=200, min_samples_split=5, min_samples_leaf=4, max_features=auto, max_depth=80, criterion=entropy, bootstrap=False \n"
     ]
    },
    {
     "name": "stderr",
     "output_type": "stream",
     "text": [
      "[Parallel(n_jobs=1)]: Using backend SequentialBackend with 1 concurrent workers.\n"
     ]
    },
    {
     "name": "stdout",
     "output_type": "stream",
     "text": [
      "[CV]  n_estimators=200, min_samples_split=5, min_samples_leaf=4, max_features=auto, max_depth=80, criterion=entropy, bootstrap=False, total=   0.4s\n",
      "[CV] n_estimators=200, min_samples_split=5, min_samples_leaf=4, max_features=auto, max_depth=80, criterion=entropy, bootstrap=False \n"
     ]
    },
    {
     "name": "stderr",
     "output_type": "stream",
     "text": [
      "[Parallel(n_jobs=1)]: Done   1 out of   1 | elapsed:    0.3s remaining:    0.0s\n"
     ]
    },
    {
     "name": "stdout",
     "output_type": "stream",
     "text": [
      "[CV]  n_estimators=200, min_samples_split=5, min_samples_leaf=4, max_features=auto, max_depth=80, criterion=entropy, bootstrap=False, total=   0.4s\n",
      "[CV] n_estimators=200, min_samples_split=5, min_samples_leaf=4, max_features=auto, max_depth=80, criterion=entropy, bootstrap=False \n",
      "[CV]  n_estimators=200, min_samples_split=5, min_samples_leaf=4, max_features=auto, max_depth=80, criterion=entropy, bootstrap=False, total=   0.4s\n",
      "[CV] n_estimators=800, min_samples_split=5, min_samples_leaf=2, max_features=auto, max_depth=100, criterion=entropy, bootstrap=False \n",
      "[CV]  n_estimators=800, min_samples_split=5, min_samples_leaf=2, max_features=auto, max_depth=100, criterion=entropy, bootstrap=False, total=   1.7s\n",
      "[CV] n_estimators=800, min_samples_split=5, min_samples_leaf=2, max_features=auto, max_depth=100, criterion=entropy, bootstrap=False \n",
      "[CV]  n_estimators=800, min_samples_split=5, min_samples_leaf=2, max_features=auto, max_depth=100, criterion=entropy, bootstrap=False, total=   1.8s\n",
      "[CV] n_estimators=800, min_samples_split=5, min_samples_leaf=2, max_features=auto, max_depth=100, criterion=entropy, bootstrap=False \n",
      "[CV]  n_estimators=800, min_samples_split=5, min_samples_leaf=2, max_features=auto, max_depth=100, criterion=entropy, bootstrap=False, total=   1.7s\n",
      "[CV] n_estimators=200, min_samples_split=10, min_samples_leaf=2, max_features=sqrt, max_depth=50, criterion=gini, bootstrap=True \n",
      "[CV]  n_estimators=200, min_samples_split=10, min_samples_leaf=2, max_features=sqrt, max_depth=50, criterion=gini, bootstrap=True, total=   0.3s\n",
      "[CV] n_estimators=200, min_samples_split=10, min_samples_leaf=2, max_features=sqrt, max_depth=50, criterion=gini, bootstrap=True \n",
      "[CV]  n_estimators=200, min_samples_split=10, min_samples_leaf=2, max_features=sqrt, max_depth=50, criterion=gini, bootstrap=True, total=   0.3s\n",
      "[CV] n_estimators=200, min_samples_split=10, min_samples_leaf=2, max_features=sqrt, max_depth=50, criterion=gini, bootstrap=True \n",
      "[CV]  n_estimators=200, min_samples_split=10, min_samples_leaf=2, max_features=sqrt, max_depth=50, criterion=gini, bootstrap=True, total=   0.3s\n",
      "[CV] n_estimators=200, min_samples_split=10, min_samples_leaf=4, max_features=sqrt, max_depth=80, criterion=gini, bootstrap=False \n",
      "[CV]  n_estimators=200, min_samples_split=10, min_samples_leaf=4, max_features=sqrt, max_depth=80, criterion=gini, bootstrap=False, total=   0.3s\n",
      "[CV] n_estimators=200, min_samples_split=10, min_samples_leaf=4, max_features=sqrt, max_depth=80, criterion=gini, bootstrap=False \n",
      "[CV]  n_estimators=200, min_samples_split=10, min_samples_leaf=4, max_features=sqrt, max_depth=80, criterion=gini, bootstrap=False, total=   0.3s\n",
      "[CV] n_estimators=200, min_samples_split=10, min_samples_leaf=4, max_features=sqrt, max_depth=80, criterion=gini, bootstrap=False \n",
      "[CV]  n_estimators=200, min_samples_split=10, min_samples_leaf=4, max_features=sqrt, max_depth=80, criterion=gini, bootstrap=False, total=   0.3s\n",
      "[CV] n_estimators=1400, min_samples_split=2, min_samples_leaf=1, max_features=auto, max_depth=80, criterion=gini, bootstrap=False \n",
      "[CV]  n_estimators=1400, min_samples_split=2, min_samples_leaf=1, max_features=auto, max_depth=80, criterion=gini, bootstrap=False, total=   2.3s\n",
      "[CV] n_estimators=1400, min_samples_split=2, min_samples_leaf=1, max_features=auto, max_depth=80, criterion=gini, bootstrap=False \n",
      "[CV]  n_estimators=1400, min_samples_split=2, min_samples_leaf=1, max_features=auto, max_depth=80, criterion=gini, bootstrap=False, total=   2.4s\n",
      "[CV] n_estimators=1400, min_samples_split=2, min_samples_leaf=1, max_features=auto, max_depth=80, criterion=gini, bootstrap=False \n",
      "[CV]  n_estimators=1400, min_samples_split=2, min_samples_leaf=1, max_features=auto, max_depth=80, criterion=gini, bootstrap=False, total=   2.7s\n",
      "[CV] n_estimators=400, min_samples_split=2, min_samples_leaf=4, max_features=sqrt, max_depth=70, criterion=gini, bootstrap=False \n",
      "[CV]  n_estimators=400, min_samples_split=2, min_samples_leaf=4, max_features=sqrt, max_depth=70, criterion=gini, bootstrap=False, total=   0.7s\n",
      "[CV] n_estimators=400, min_samples_split=2, min_samples_leaf=4, max_features=sqrt, max_depth=70, criterion=gini, bootstrap=False \n",
      "[CV]  n_estimators=400, min_samples_split=2, min_samples_leaf=4, max_features=sqrt, max_depth=70, criterion=gini, bootstrap=False, total=   0.7s\n",
      "[CV] n_estimators=400, min_samples_split=2, min_samples_leaf=4, max_features=sqrt, max_depth=70, criterion=gini, bootstrap=False \n",
      "[CV]  n_estimators=400, min_samples_split=2, min_samples_leaf=4, max_features=sqrt, max_depth=70, criterion=gini, bootstrap=False, total=   0.7s\n",
      "[CV] n_estimators=600, min_samples_split=10, min_samples_leaf=4, max_features=sqrt, max_depth=100, criterion=entropy, bootstrap=True \n",
      "[CV]  n_estimators=600, min_samples_split=10, min_samples_leaf=4, max_features=sqrt, max_depth=100, criterion=entropy, bootstrap=True, total=   1.2s\n",
      "[CV] n_estimators=600, min_samples_split=10, min_samples_leaf=4, max_features=sqrt, max_depth=100, criterion=entropy, bootstrap=True \n",
      "[CV]  n_estimators=600, min_samples_split=10, min_samples_leaf=4, max_features=sqrt, max_depth=100, criterion=entropy, bootstrap=True, total=   1.2s\n",
      "[CV] n_estimators=600, min_samples_split=10, min_samples_leaf=4, max_features=sqrt, max_depth=100, criterion=entropy, bootstrap=True \n",
      "[CV]  n_estimators=600, min_samples_split=10, min_samples_leaf=4, max_features=sqrt, max_depth=100, criterion=entropy, bootstrap=True, total=   1.2s\n",
      "[CV] n_estimators=600, min_samples_split=2, min_samples_leaf=2, max_features=auto, max_depth=70, criterion=entropy, bootstrap=True \n",
      "[CV]  n_estimators=600, min_samples_split=2, min_samples_leaf=2, max_features=auto, max_depth=70, criterion=entropy, bootstrap=True, total=   1.3s\n",
      "[CV] n_estimators=600, min_samples_split=2, min_samples_leaf=2, max_features=auto, max_depth=70, criterion=entropy, bootstrap=True \n",
      "[CV]  n_estimators=600, min_samples_split=2, min_samples_leaf=2, max_features=auto, max_depth=70, criterion=entropy, bootstrap=True, total=   1.2s\n",
      "[CV] n_estimators=600, min_samples_split=2, min_samples_leaf=2, max_features=auto, max_depth=70, criterion=entropy, bootstrap=True \n",
      "[CV]  n_estimators=600, min_samples_split=2, min_samples_leaf=2, max_features=auto, max_depth=70, criterion=entropy, bootstrap=True, total=   1.2s\n",
      "[CV] n_estimators=1000, min_samples_split=2, min_samples_leaf=4, max_features=sqrt, max_depth=100, criterion=gini, bootstrap=False \n",
      "[CV]  n_estimators=1000, min_samples_split=2, min_samples_leaf=4, max_features=sqrt, max_depth=100, criterion=gini, bootstrap=False, total=   1.7s\n",
      "[CV] n_estimators=1000, min_samples_split=2, min_samples_leaf=4, max_features=sqrt, max_depth=100, criterion=gini, bootstrap=False \n",
      "[CV]  n_estimators=1000, min_samples_split=2, min_samples_leaf=4, max_features=sqrt, max_depth=100, criterion=gini, bootstrap=False, total=   1.7s\n",
      "[CV] n_estimators=1000, min_samples_split=2, min_samples_leaf=4, max_features=sqrt, max_depth=100, criterion=gini, bootstrap=False \n",
      "[CV]  n_estimators=1000, min_samples_split=2, min_samples_leaf=4, max_features=sqrt, max_depth=100, criterion=gini, bootstrap=False, total=   1.6s\n",
      "[CV] n_estimators=1200, min_samples_split=10, min_samples_leaf=2, max_features=sqrt, max_depth=20, criterion=entropy, bootstrap=False \n",
      "[CV]  n_estimators=1200, min_samples_split=10, min_samples_leaf=2, max_features=sqrt, max_depth=20, criterion=entropy, bootstrap=False, total=   2.3s\n",
      "[CV] n_estimators=1200, min_samples_split=10, min_samples_leaf=2, max_features=sqrt, max_depth=20, criterion=entropy, bootstrap=False \n",
      "[CV]  n_estimators=1200, min_samples_split=10, min_samples_leaf=2, max_features=sqrt, max_depth=20, criterion=entropy, bootstrap=False, total=   2.3s\n",
      "[CV] n_estimators=1200, min_samples_split=10, min_samples_leaf=2, max_features=sqrt, max_depth=20, criterion=entropy, bootstrap=False \n",
      "[CV]  n_estimators=1200, min_samples_split=10, min_samples_leaf=2, max_features=sqrt, max_depth=20, criterion=entropy, bootstrap=False, total=   2.4s\n"
     ]
    },
    {
     "name": "stderr",
     "output_type": "stream",
     "text": [
      "[Parallel(n_jobs=1)]: Done  30 out of  30 | elapsed:   37.3s finished\n"
     ]
    },
    {
     "name": "stdout",
     "output_type": "stream",
     "text": [
      "[4 3 3 ... 4 3 0]\n"
     ]
    }
   ],
   "source": [
    "#分类\n",
    "clf_random.fit(X_train, enc.transform(y_train))\n",
    "print(enc.transform(y_train))\n"
   ]
  },
  {
   "cell_type": "code",
   "execution_count": 35,
   "metadata": {},
   "outputs": [
    {
     "name": "stdout",
     "output_type": "stream",
     "text": [
      "{'n_estimators': 1400, 'min_samples_split': 2, 'min_samples_leaf': 1, 'max_features': 'auto', 'max_depth': 80, 'criterion': 'gini', 'bootstrap': False}\n"
     ]
    }
   ],
   "source": [
    "##打印出最优参数\n",
    "print (clf_random.best_params_)\n"
   ]
  },
  {
   "cell_type": "code",
   "execution_count": 37,
   "metadata": {},
   "outputs": [
    {
     "name": "stdout",
     "output_type": "stream",
     "text": [
      "日期\n",
      "2017/7/19     轻度\n",
      "2018/10/31     良\n",
      "2014/6/11      良\n",
      "2014/7/13      良\n",
      "2014/8/13      良\n",
      "              ..\n",
      "2016/3/16     重度\n",
      "2017/4/3      中度\n",
      "2018/6/20     轻度\n",
      "2015/6/14      良\n",
      "2015/10/17    严重\n",
      "Name: 质量等级, Length: 1608, dtype: object\n",
      "['轻度' '良' '良' ... '轻度' '良' '严重']\n"
     ]
    }
   ],
   "source": [
    "import itertools\n",
    "clf=RandomForestClassifier(criterion='entropy',bootstrap=False,max_features='sqrt', max_depth=20,min_samples_split=10, n_estimators=1200,min_samples_leaf=2)\n",
    "\n",
    "clf.fit(X_train, enc.transform(y_train)) \n",
    "y_train_pred=clf.predict(X_train)\n",
    "y_train_pred=enc.inverse_transform(y_train_pred)\n",
    "print (y_train)\n",
    "print (y_train_pred)"
   ]
  },
  {
   "cell_type": "code",
   "execution_count": 38,
   "metadata": {},
   "outputs": [
    {
     "name": "stdout",
     "output_type": "stream",
     "text": [
      "Index(['PM2.5', 'PM10', 'SO2', 'CO', 'NO2', 'O3_8h'], dtype='object')\n",
      "[0.37339815 0.21898128 0.01366037 0.059923   0.07104234 0.26299486]\n"
     ]
    },
    {
     "data": {
      "image/png": "[encoded data removed]",
      "text/plain": [
       "<Figure size 432x288 with 1 Axes>"
      ]
     },
     "metadata": {},
     "output_type": "display_data"
    }
   ],
   "source": [
    "print(feature)\n",
    "print (clf.feature_importances_)\n",
    "plt.barh(range(len(clf.feature_importances_)), clf.feature_importances_,tick_label = feature)\n",
    "plt.show()"
   ]
  },
  {
   "cell_type": "code",
   "execution_count": 39,
   "metadata": {},
   "outputs": [],
   "source": [
    "##解决中文画图乱码问题\n",
    "zh_font = matplotlib.font_manager.FontProperties(fname='C:/Windows/Fonts/simhei.ttf')"
   ]
  },
  {
   "cell_type": "code",
   "execution_count": 40,
   "metadata": {},
   "outputs": [
    {
     "name": "stdout",
     "output_type": "stream",
     "text": [
      "训练集评估结果：\n",
      "              precision    recall  f1-score   support\n",
      "\n",
      "          严重       1.00      1.00      1.00        40\n",
      "          中度       1.00      1.00      1.00       216\n",
      "           优       1.00      1.00      1.00       278\n",
      "           良       1.00      1.00      1.00       612\n",
      "          轻度       1.00      1.00      1.00       350\n",
      "          重度       1.00      1.00      1.00       112\n",
      "\n",
      "    accuracy                           1.00      1608\n",
      "   macro avg       1.00      1.00      1.00      1608\n",
      "weighted avg       1.00      1.00      1.00      1608\n",
      "\n"
     ]
    }
   ],
   "source": [
    "def plot_confusion_matrix(cm, classes,normalize=False,title='Confusion matrix',cmap=plt.cm.Blues):\n",
    "    if normalize:\n",
    "        cm = cm.astype('float') / cm.sum(axis=1)[:, np.newaxis]\n",
    "        print(\"Normalized confusion matrix\")\n",
    "    else:\n",
    "        print('Confusion matrix, without normalization')\n",
    "    #print(cm)\n",
    "\n",
    "    plt.imshow(cm, interpolation='nearest', cmap=cmap)\n",
    "    plt.title(title,fontproperties=zh_font)\n",
    "    plt.colorbar()\n",
    "    tick_marks = np.arange(len(classes))\n",
    "    plt.xticks(tick_marks, classes,fontproperties=zh_font )\n",
    "    plt.yticks(tick_marks, classes,fontproperties=zh_font)\n",
    "\n",
    "    fmt = '.2f' if normalize else 'd'\n",
    "    thresh = cm.max() / 2.\n",
    "    for i, j in itertools.product(range(cm.shape[0]), range(cm.shape[1])):\n",
    "        plt.text(j, i, format(cm[i, j], fmt),\n",
    "                 horizontalalignment=\"center\",\n",
    "                 color=\"white\" if cm[i, j] > thresh else \"black\")\n",
    "\n",
    "    plt.ylabel('True label')\n",
    "    plt.xlabel('Predicted label')\n",
    "    plt.tight_layout()\n",
    "print (\"训练集评估结果：\")\n",
    "report_train=classification_report(y_train, y_train_pred,labels=class_names)\n",
    "print (report_train)"
   ]
  },
  {
   "cell_type": "code",
   "execution_count": 41,
   "metadata": {},
   "outputs": [
    {
     "name": "stdout",
     "output_type": "stream",
     "text": [
      "混淆矩阵\n",
      "Confusion matrix, without normalization\n"
     ]
    },
    {
     "data": {
      "image/png": "[encoded data removed]",
      "text/plain": [
       "<Figure size 432x288 with 2 Axes>"
      ]
     },
     "metadata": {},
     "output_type": "display_data"
    }
   ],
   "source": [
    "print ('混淆矩阵')\n",
    "cm=confusion_matrix(y_train, y_train_pred,labels=class_names)\n",
    "plot_confusion_matrix(cm, classes=class_names,title='训练集混淆矩阵',cmap=plt.cm.Greens)\n",
    "plt.show()"
   ]
  },
  {
   "cell_type": "code",
   "execution_count": 42,
   "metadata": {},
   "outputs": [
    {
     "name": "stdout",
     "output_type": "stream",
     "text": [
      "验证集评估结果：\n",
      "              precision    recall  f1-score   support\n",
      "\n",
      "          严重       1.00      1.00      1.00         3\n",
      "          中度       0.97      0.97      0.97        29\n",
      "           优       1.00      0.92      0.96        24\n",
      "           良       0.97      1.00      0.98        61\n",
      "          轻度       0.98      1.00      0.99        46\n",
      "          重度       1.00      0.94      0.97        16\n",
      "\n",
      "    accuracy                           0.98       179\n",
      "   macro avg       0.99      0.97      0.98       179\n",
      "weighted avg       0.98      0.98      0.98       179\n",
      "\n"
     ]
    }
   ],
   "source": [
    "print (\"验证集评估结果：\")\n",
    "y_test_pred=clf.predict(X_test)\n",
    "y_test_pred=enc.inverse_transform(y_test_pred)\n",
    "#print (y_test_pred)\n",
    "\n",
    "report_test=classification_report(y_test, y_test_pred,labels=class_names)\n",
    "print (report_test)"
   ]
  },
  {
   "cell_type": "code",
   "execution_count": 43,
   "metadata": {},
   "outputs": [
    {
     "name": "stdout",
     "output_type": "stream",
     "text": [
      "混淆矩阵\n",
      "Confusion matrix, without normalization\n"
     ]
    },
    {
     "data": {
      "image/png": "[encoded data removed]",
      "text/plain": [
       "<Figure size 432x288 with 2 Axes>"
      ]
     },
     "metadata": {},
     "output_type": "display_data"
    }
   ],
   "source": [
    "print ('混淆矩阵')\n",
    "cm_test=confusion_matrix(y_test, y_test_pred,labels=class_names)\n",
    "plot_confusion_matrix(cm_test, classes=class_names,title='验证集混淆矩阵')\n",
    "plt.show()"
   ]
  },
  {
   "cell_type": "code",
   "execution_count": 45,
   "metadata": {},
   "outputs": [],
   "source": [
    "\n",
    "'''预测'''\n",
    "data_pred=pd.read_csv('air.csv',index_col=0,encoding='gb2312')\n",
    "y_pred=clf.predict(data_pred.values)\n",
    "y_pred=enc.inverse_transform(y_pred)"
   ]
  },
  {
   "cell_type": "code",
   "execution_count": 46,
   "metadata": {},
   "outputs": [
    {
     "name": "stdout",
     "output_type": "stream",
     "text": [
      "['轻度' '良' '轻度' '轻度' '良' '轻度' '轻度' '良' '良' '轻度' '良' '良' '良' '良' '良' '轻度'\n",
      " '良' '良' '轻度' '良' '轻度' '良' '良' '良' '良' '良' '轻度' '轻度' '轻度' '良' '轻度' '轻度'\n",
      " '轻度' '良' '轻度' '轻度' '轻度' '良' '良' '轻度' '良' '良' '良' '良' '良' '良' '良' '良' '良'\n",
      " '轻度' '良' '轻度' '轻度' '良' '轻度' '轻度' '轻度' '良' '轻度' '良' '轻度' '轻度' '轻度' '轻度'\n",
      " '轻度' '良' '良' '良' '良' '良' '良' '良' '良' '良' '良' '良' '良' '良' '良' '良' '良' '良'\n",
      " '良' '良' '良' '良' '轻度' '良' '良' '良' '良' '良' '良' '良' '良' '良' '良' '良' '优' '良'\n",
      " '轻度' '轻度' '良' '轻度' '轻度' '良' '良' '良' '良' '良' '良' '良' '良']\n"
     ]
    }
   ],
   "source": [
    "#将分类结果保存在文件中\n",
    "result_cla=pd.DataFrame(data_pred.index)\n",
    "result_cla[u'质量等级']=y_pred\n",
    "result_cla.to_csv('result_cla.txt',encoding='gb2312')\n",
    "print(y_pred)"
   ]
  },
  {
   "cell_type": "code",
   "execution_count": null,
   "metadata": {},
   "outputs": [],
   "source": []
  }
 ],
 "metadata": {
  "kernelspec": {
   "display_name": "Python 3",
   "language": "python",
   "name": "python3"
  },
  "language_info": {
   "codemirror_mode": {
    "name": "ipython",
    "version": 3
   },
   "file_extension": ".py",
   "mimetype": "text/x-python",
   "name": "python",
   "nbconvert_exporter": "python",
   "pygments_lexer": "ipython3",
   "version": "3.8.3"
  }
 },
 "nbformat": 4,
 "nbformat_minor": 4
}
